{
  "nbformat": 4,
  "nbformat_minor": 0,
  "metadata": {
    "colab": {
      "name": "bi-lstm_features_as_output_concat.ipynb",
      "provenance": [],
      "collapsed_sections": [],
      "toc_visible": true
    },
    "kernelspec": {
      "name": "python3",
      "display_name": "Python 3"
    },
    "language_info": {
      "name": "python"
    },
    "accelerator": "GPU"
  },
  "cells": [
    {
      "cell_type": "code",
      "metadata": {
        "colab": {
          "base_uri": "https://localhost:8080/"
        },
        "id": "YtOB0oJSz6S-",
        "outputId": "c35432f4-2ffa-4520-bfe2-69c566997efc"
      },
      "source": [
        "from google.colab import drive\n",
        "drive.mount('/content/drive')"
      ],
      "execution_count": null,
      "outputs": [
        {
          "output_type": "stream",
          "text": [
            "Mounted at /content/drive\n"
          ],
          "name": "stdout"
        }
      ]
    },
    {
      "cell_type": "code",
      "metadata": {
        "id": "msgsWzfmP4TG"
      },
      "source": [
        "import numpy as np\n",
        "import pandas as pd\n",
        "from tqdm import tqdm\n",
        "import json\n",
        "from sklearn import metrics\n",
        "import matplotlib.pyplot as plt\n",
        "import ast\n",
        "\n",
        "import torch\n",
        "import torch.nn as nn\n",
        "import torch.nn.functional as F\n",
        "import torch.optim as optim\n",
        "from torchsummary import summary\n",
        "from torch.utils.data import TensorDataset, DataLoader\n",
        "from torch.nn.utils.rnn import pack_padded_sequence, pad_packed_sequence\n",
        "from torchtext.legacy import data\n",
        "from torchtext import datasets\n",
        "from torchtext.legacy.data import Field, Dataset, Example\n",
        "from torch.autograd import Variable"
      ],
      "execution_count": null,
      "outputs": []
    },
    {
      "cell_type": "markdown",
      "metadata": {
        "id": "0ZIUjIomtQAC"
      },
      "source": [
        "Load the pre-trained embedding matrix\n",
        "\n",
        "*   glove-twitter-200d\n",
        "*   ntua-twitter-300d\n",
        "*   concatenate the two, make 500d\n",
        "\n",
        ".npy file is the binary numpy matrix file, which stores the pre-trained weights used for Embedding layer.\n",
        "\n",
        "token_idx.csv: the corresponding dic index of the tokens in each input tweet, varied-length, needs padding to the same length before training.\n"
      ]
    },
    {
      "cell_type": "code",
      "metadata": {
        "id": "_bv4A73u1BLr",
        "colab": {
          "base_uri": "https://localhost:8080/"
        },
        "outputId": "a5491f1c-7f8a-400b-8704-f36db64b9a8e"
      },
      "source": [
        "glove_weights = np.load(\"/content/drive/MyDrive/irony_thuset/glove_twitter_embed_matrix.npy\")\n",
        "ntua_weights = np.load(\"/content/drive/MyDrive/irony_thuset/ntua_twitter_embed_matrix.npy\")\n",
        "\n",
        "glove_weights = torch.from_numpy(glove_weights)\n",
        "ntua_weights = torch.from_numpy(ntua_weights)\n",
        "glove_weights = torch.cat((glove_weights, ntua_weights), dim=1)\n",
        "print(\"Embedding dimension:\", glove_weights.size())"
      ],
      "execution_count": null,
      "outputs": [
        {
          "output_type": "stream",
          "text": [
            "Embedding dimension: torch.Size([1175, 500])\n"
          ],
          "name": "stdout"
        }
      ]
    },
    {
      "cell_type": "markdown",
      "metadata": {
        "id": "uoHKjPNaHH8q"
      },
      "source": [
        "Obtain the token index table, used as input of the embeddding layer in self.forward()\n",
        "\n",
        "\n",
        "*   Specifically, a token index table is that:\n",
        "for each tweet, we need the token index extracted from a whole word dictionary in the whole set\n",
        "tweet: \"I have a dog\" ;     token index: [3, 6, 8, 9]\n",
        "\n"
      ]
    },
    {
      "cell_type": "code",
      "metadata": {
        "id": "gCI5MZLEmhY8"
      },
      "source": [
        "def idx_tensor(path, reshape_size):\n",
        "  token_idx = pd.read_csv(path, index_col=None)\n",
        "  token_idx[\"token_to_idx\"] = token_idx.loc[:, \"token_to_idx\"].map(lambda x: ast.literal_eval(x))\n",
        "  token_idx[\"token_length\"] = token_idx[\"token_to_idx\"].map(lambda x: len(x))\n",
        "  print(\"Max length of the tokens:\", token_idx[\"token_length\"].max())\n",
        "\n",
        "  # So we pad all inputs to same length tokens, pad with index 1174 which is the <unk> token index\n",
        "  idx_matrix = []\n",
        "  for i in range(len(token_idx)):\n",
        "    l = token_idx.loc[i, \"token_to_idx\"]\n",
        "    l += (token_idx[\"token_length\"].max()-len(l)) * [1174]\n",
        "    idx_matrix.extend(l)\n",
        "  idx_matrix = np.array(idx_matrix).reshape(reshape_size, -1) \n",
        "  idx_tensor = torch.from_numpy(idx_matrix).long()\n",
        "  return idx_tensor"
      ],
      "execution_count": null,
      "outputs": []
    },
    {
      "cell_type": "code",
      "metadata": {
        "colab": {
          "base_uri": "https://localhost:8080/"
        },
        "id": "OvpmxEdEmsRB",
        "outputId": "56a2dfd6-129e-4517-acb7-87862c9a8486"
      },
      "source": [
        "idx_train = idx_tensor(\"/content/drive/MyDrive/irony_thuset/token_idx.csv\", 3834)\n",
        "idx_test = idx_tensor(\"/content/drive/MyDrive/irony_thuset/token_idx_test.csv\", 784)"
      ],
      "execution_count": null,
      "outputs": [
        {
          "output_type": "stream",
          "text": [
            "Max length of the tokens: 75\n",
            "Max length of the tokens: 66\n"
          ],
          "name": "stdout"
        }
      ]
    },
    {
      "cell_type": "markdown",
      "metadata": {
        "id": "RjdP6CIATz0N"
      },
      "source": [
        "import train and test sentiment features, 49 features in total for each"
      ]
    },
    {
      "cell_type": "code",
      "metadata": {
        "id": "MU35SfrtT4C0",
        "colab": {
          "base_uri": "https://localhost:8080/"
        },
        "outputId": "dcc4509d-7ce9-4cce-cdd8-3f05255612a6"
      },
      "source": [
        "train_sentiment = pd.read_csv(\"/content/drive/MyDrive/irony_thuset/train_sentiment.csv\", index_col=None, header=None)\n",
        "test_sentiment = pd.read_csv(\"/content/drive/MyDrive/irony_thuset/test_sentiment.csv\", index_col=None, header=None)\n",
        "\n",
        "train_sent_tensor = torch.from_numpy(train_sentiment.values).float()\n",
        "test_sent_tensor = torch.from_numpy(test_sentiment.values).float()\n",
        "print(train_sent_tensor.size())\n",
        "print(test_sent_tensor.size())"
      ],
      "execution_count": null,
      "outputs": [
        {
          "output_type": "stream",
          "text": [
            "torch.Size([3834, 49])\n",
            "torch.Size([784, 49])\n"
          ],
          "name": "stdout"
        }
      ]
    },
    {
      "cell_type": "markdown",
      "metadata": {
        "id": "4u2_uAbPU_8b"
      },
      "source": [
        "\n",
        "\n",
        "*   Method 1: add sentiment features as initial hidden states, so first we concatenate the features to the idx_tensor, for later loader construction.\n",
        "*   Method 2: add sentiment features as features to the final layer, then feed the output for the classification layer.\n",
        "\n"
      ]
    },
    {
      "cell_type": "markdown",
      "metadata": {
        "id": "GPJcvLdle8jT"
      },
      "source": [
        "# 1. Import pre-trained embeddings and labels, train and gold-test"
      ]
    },
    {
      "cell_type": "markdown",
      "metadata": {
        "id": "uK2oOJOzgzuI"
      },
      "source": [
        "set cuda configuration"
      ]
    },
    {
      "cell_type": "code",
      "metadata": {
        "colab": {
          "base_uri": "https://localhost:8080/"
        },
        "id": "I53WswCUYubz",
        "outputId": "30216860-a9d4-4809-ca0f-0bfb7bb318ff"
      },
      "source": [
        "torch.manual_seed(16)    # Group 16\n",
        "cuda_status = torch.cuda.is_available()\n",
        "\n",
        "# using cuda\n",
        "if cuda_status:\n",
        "    torch.cuda.manual_seed(100)\n",
        "    device = 'cuda:0'\n",
        "    print('You have CUDA device.')\n",
        "else:\n",
        "    device = 'cpu'\n",
        "    print('Switch to GPU runtime to speed up computation.')  "
      ],
      "execution_count": null,
      "outputs": [
        {
          "output_type": "stream",
          "text": [
            "You have CUDA device.\n"
          ],
          "name": "stdout"
        }
      ]
    },
    {
      "cell_type": "code",
      "metadata": {
        "id": "MYt8su5jP__D",
        "colab": {
          "base_uri": "https://localhost:8080/"
        },
        "outputId": "26847f0e-2a07-4258-b050-f455df311b38"
      },
      "source": [
        "with open('/content/drive/MyDrive/irony_thuset/task3_train.txt','r')as f:\n",
        "    task3_train = f.read()\n",
        "task3_train = json.JSONDecoder().decode(task3_train)\n",
        "\n",
        "train_label = []\n",
        "for sent in task3_train:\n",
        "    train_label.append(int(sent['label']))\n",
        "train_label = np.array(train_label, dtype=np.float)\n",
        "train_label = torch.from_numpy(train_label).long()\n",
        "\n",
        "# gold test labels\n",
        "gold_test_df = pd.read_csv(\"/content/drive/MyDrive/irony_thuset/SemEval2018-T3_gold_test_taskA_emoji.txt\", sep=\"\\t\")\n",
        "test_label = gold_test_df[\"Label\"]\n",
        "true_labels = np.array(test_label)\n",
        "test_label = torch.from_numpy(true_labels).long()\n",
        "\n",
        "\n",
        "print(\"train_label:\", train_label.shape)\n",
        "print(\"test_label:\", test_label.shape)"
      ],
      "execution_count": null,
      "outputs": [
        {
          "output_type": "stream",
          "text": [
            "train_label: torch.Size([3834])\n",
            "test_label: torch.Size([784])\n"
          ],
          "name": "stdout"
        }
      ]
    },
    {
      "cell_type": "markdown",
      "metadata": {
        "id": "gkEeyHD1thqR"
      },
      "source": [
        "# 2. Construct data iteretors with batch-size"
      ]
    },
    {
      "cell_type": "code",
      "metadata": {
        "id": "WEUPRYZbX9DI"
      },
      "source": [
        "BATCH_SIZE = 64\n",
        "\n",
        "train_set = idx_train, train_sent_tensor, train_label\n",
        "test_set = idx_test, test_sent_tensor, test_label\n",
        "# Create dataloaders from the training and test set for easier iteration over the data\n",
        "train_loader = DataLoader(TensorDataset(*train_set), batch_size=BATCH_SIZE, shuffle=True)\n",
        "test_loader = DataLoader(TensorDataset(*test_set), batch_size=BATCH_SIZE)\n"
      ],
      "execution_count": null,
      "outputs": []
    },
    {
      "cell_type": "markdown",
      "metadata": {
        "id": "0C2ZwHx2iB52"
      },
      "source": [
        "# 3. Build the bi-LSTM with customized number of layers"
      ]
    },
    {
      "cell_type": "code",
      "metadata": {
        "id": "YcO2oHslZ6D_"
      },
      "source": [
        "class BiLSTMClassifier(nn.Module):\n",
        "\n",
        "    def __init__(self, vocab_size, embed_size, weights_matrix, hidden_dim, dropout, num_layers, feature_size):\n",
        "  \n",
        "        super(BiLSTMClassifier, self).__init__()\n",
        "        self.num_layers = num_layers\n",
        "\n",
        "        self.embedding = nn.Embedding(vocab_size, embed_size)\n",
        "        self.embedding.load_state_dict({'weight': weights_matrix})\n",
        "        \n",
        "        self.lstm = nn.LSTM(embed_size, hidden_dim, bidirectional=True, num_layers=num_layers, dropout = dropout, batch_first=True)\n",
        "        \n",
        "        \n",
        "        # self.lstm1 = nn.LSTM(embed_size, hidden_dim, bidirectional=True, num_layers=1, dropout = dropout, batch_first=True)\n",
        "        # self.lstm2 = nn.LSTM(hidden_dim * 2, hidden_dim, bidirectional=True, num_layers=1, dropout = dropout, batch_first=True)\n",
        "        # self.lstm3 = nn.LSTM(hidden_dim * 4, hidden_dim, bidirectional=True, num_layers=1, dropout = dropout, batch_first=True)\n",
        "        # self.lstm4 = nn.LSTM(hidden_dim * 6, hidden_dim, bidirectional=True, num_layers=1, dropout = dropout, batch_first=True)\n",
        "        self.fc = nn.Linear(hidden_dim * 2 + feature_size, 2)\n",
        "        self.dropout = nn.Dropout(dropout)\n",
        "\n",
        "\n",
        "    def forward(self, idx, features):\n",
        "\n",
        "        #pass pre-trained embeddings through embedding layer\n",
        "        embedded = self.embedding(idx)\n",
        "        #pass embeddings into LSTM\n",
        "        lstm_out, (hidden, cell) = self.lstm(embedded) \n",
        "        # lstm1_out, (h1, c1) = self.lstm1(embedded)\n",
        "       \n",
        "        # lstm2_out, (h2, c2) = self.lstm2 (lstm1_out)\n",
        "        \n",
        "        # lstm3_out, (h3, c3) = self.lstm3 (torch.cat((lstm1_out, lstm2_out), dim=2)) \n",
        "        \n",
        "        # lstm_out, (hidden, cell) = self.lstm4(torch.cat((lstm1_out, lstm2_out, lstm3_out), dim=2)) # h0, c0 both intialized to zero\n",
        "\n",
        "        cat = torch.cat((hidden[-2, :, :], hidden[-1, :, :], features), dim=1)\n",
        " \n",
        "        outputs = self.fc(self.dropout(cat))\n",
        "        # outputs = self.relu(outputs)\n",
        "        return outputs\n",
        "\n"
      ],
      "execution_count": null,
      "outputs": []
    },
    {
      "cell_type": "markdown",
      "metadata": {
        "id": "euBKT5FaEKWl"
      },
      "source": [
        "# 4. Define train and test module"
      ]
    },
    {
      "cell_type": "code",
      "metadata": {
        "id": "Lbl96LWehGhK"
      },
      "source": [
        "def train(train_loader, model, loss_function, optimizer, device):\n",
        "  \"\"\"\n",
        "    Trains network for one epoch in batches.\n",
        "\n",
        "    Args:\n",
        "        train_loader: Data loader for training set.\n",
        "        model: Neural network model.\n",
        "        optimizer: Optimizer.\n",
        "        loss_function: Loss function (e.g. cross-entropy loss).\n",
        "  \"\"\"\n",
        "\n",
        "  avg_loss = 0\n",
        "  correct = 0\n",
        "  total = 0\n",
        "    # Iterate through batches\n",
        "  for i, data in enumerate(train_loader):\n",
        "      # Get the inputs; data is a list of [inputs, labels]\n",
        "      inputs, features, labels = data\n",
        "      # Move data to target device\n",
        "      inputs, features, labels = inputs.to(device), features.to(device), labels.to(device)\n",
        "\n",
        "      # Zero the parameter gradients\n",
        "      optimizer.zero_grad()\n",
        "\n",
        "      # Forward + backward + optimize\n",
        "\n",
        "      outputs = model(inputs, features)\n",
        "      loss = loss_function(outputs, labels)\n",
        "      loss.backward()\n",
        "      optimizer.step()\n",
        "\n",
        "      # Keep track of loss and accuracy\n",
        "      avg_loss += loss\n",
        "      _, predicted = torch.max(outputs.data, 1)\n",
        "      total += labels.size(0)\n",
        "      correct += (predicted == labels).sum().item()\n",
        "\n",
        "  return avg_loss / len(train_loader), 100 * correct / total\n",
        "\n",
        "def test(test_loader, model, criterion, device):\n",
        "    \"\"\"\n",
        "    Evaluates network in batches.\n",
        "\n",
        "    \"\"\"\n",
        "\n",
        "    avg_loss = 0\n",
        "    correct = 0\n",
        "    total = 0\n",
        "    pred_labels = []\n",
        "    \n",
        "    # Use torch.no_grad to skip gradient calculation, not needed for evaluation\n",
        "    with torch.no_grad():\n",
        "        # Iterate through batches\n",
        "        for data in test_loader:\n",
        "            # Get the inputs; data is a list of [inputs, labels]\n",
        "            \n",
        "\n",
        "            inputs, features, labels = data\n",
        "            # Move data to target device\n",
        "            inputs, features, labels = inputs.to(device), features.to(device), labels.to(device)\n",
        "\n",
        "            # Move data to target device\n",
        "            \n",
        "\n",
        "            # Forward pass\n",
        "            outputs = model(inputs, features)\n",
        "            loss = criterion(outputs, labels)\n",
        "\n",
        "            # Keep track of loss and accuracy\n",
        "            avg_loss += loss\n",
        "            _, predicted = torch.max(outputs.data, 1)\n",
        "            total += labels.size(0)\n",
        "            correct += (predicted == labels).sum().item()\n",
        "\n",
        "            pred_labels.append(predicted)\n",
        "\n",
        "    return avg_loss / len(test_loader), 100 * correct / total, pred_labels\n",
        "\n"
      ],
      "execution_count": null,
      "outputs": []
    },
    {
      "cell_type": "markdown",
      "metadata": {
        "id": "C9blxSuvEW81"
      },
      "source": [
        "# 5. Train process"
      ]
    },
    {
      "cell_type": "code",
      "metadata": {
        "id": "Zoy6-Uji1BTi",
        "colab": {
          "base_uri": "https://localhost:8080/"
        },
        "outputId": "86fa64e7-1d7b-476f-b0a9-45765fcd9da5"
      },
      "source": [
        "\n",
        "DROPOUT = 0.3\n",
        "HIDDEN_SIZE = 200\n",
        "EPOCH = 80\n",
        "LEARNING_RATE = 0.0005\n",
        "NUM_LAYERS = 4\n",
        "EMBED_SIZE = glove_weights.shape[1]\n",
        "VOCAB_SIZE = glove_weights.shape[0]\n",
        "WEIGHTS_MATRIX = glove_weights\n",
        "FEATURE_SIZE = 49\n",
        "\n",
        "\n",
        "model = BiLSTMClassifier(VOCAB_SIZE, EMBED_SIZE, WEIGHTS_MATRIX, HIDDEN_SIZE, DROPOUT, NUM_LAYERS, FEATURE_SIZE)\n",
        "model = model.to(device)\n",
        "# loss function and optimizer\n",
        "loss_function = nn.CrossEntropyLoss()\n",
        "optimizer = optim.Adam(model.parameters(), lr=LEARNING_RATE)\n",
        "\n",
        "\n",
        "train_losses = []\n",
        "train_accs = []\n",
        "test_losses = []\n",
        "test_accs=[]\n",
        "\n",
        "# training process\n",
        "for epoch in tqdm(range(EPOCH)):\n",
        "    \n",
        "    train_loss, train_acc = train(train_loader, model, loss_function, optimizer, device)  \n",
        "    test_loss, test_acc, pred_labels = test(test_loader, model, loss_function, device)\n",
        "    \n",
        "    train_losses.append(train_loss)\n",
        "    train_accs.append(train_acc)\n",
        "    test_losses.append(test_loss)\n",
        "    test_accs.append(test_acc)\n",
        "  \n"
      ],
      "execution_count": null,
      "outputs": [
        {
          "output_type": "stream",
          "text": [
            "100%|██████████| 80/80 [06:46<00:00,  5.08s/it]\n"
          ],
          "name": "stderr"
        }
      ]
    },
    {
      "cell_type": "markdown",
      "metadata": {
        "id": "-Z3WSfRREhQ6"
      },
      "source": [
        "# 6. Draw the train and test curves. Evaluate confusion matrix"
      ]
    },
    {
      "cell_type": "code",
      "metadata": {
        "id": "71a9gwip1NsG",
        "colab": {
          "base_uri": "https://localhost:8080/"
        },
        "outputId": "d11231d5-ede1-43c4-fe06-bced29f25316"
      },
      "source": [
        "plt.figure(figsize=(9,4))\n",
        "plt.subplot(1,2,1)\n",
        "plt.xlabel('Epochs')\n",
        "plt.ylabel('Loss')\n",
        "plt.plot(train_losses, label=\"train\")\n",
        "plt.plot(test_losses, label=\"test\")\n",
        "plt.grid()\n",
        "\n",
        "plt.subplot(1,2,2)\n",
        "plt.xlabel('Epochs')\n",
        "plt.ylabel('Accuracy (%)')\n",
        "plt.plot(train_accs, label = \"train\")\n",
        "plt.plot(test_accs, label = \"test\")\n",
        "plt.legend()\n",
        "plt.grid()"
      ],
      "execution_count": null,
      "outputs": [
        {
          "output_type": "display_data",
          "data": {
            "image/png": "[encoded data removed]",
            "text/plain": [
              "<Figure size 648x288 with 2 Axes>"
            ]
          },
          "metadata": {
            "tags": [],
            "needs_background": "light"
          }
        }
      ]
    },
    {
      "cell_type": "code",
      "metadata": {
        "colab": {
          "base_uri": "https://localhost:8080/"
        },
        "id": "N2vc7DCsHYAw",
        "outputId": "8284334a-c361-4674-8dea-4ef2081c9de6"
      },
      "source": [
        "pre_l = []\n",
        "for i in pred_labels:\n",
        "  pre_l.extend(i.to(\"cpu\").numpy().tolist())\n",
        "pre_l = np.array(pre_l)\n",
        "\n",
        "print(\"Precision (P):\", metrics.precision_score(true_labels, pre_l))\n",
        "print(\"Recall (R):\", metrics.recall_score(true_labels, pre_l))\n",
        "print(\"F1 score (F):\", metrics.f1_score(true_labels, pre_l))\n",
        "print()\n",
        "print(\"Classification Report\")\n",
        "print(metrics.classification_report(true_labels, pre_l, digits=4))"
      ],
      "execution_count": null,
      "outputs": [
        {
          "output_type": "stream",
          "text": [
            "Precision (P): 0.5349462365591398\n",
            "Recall (R): 0.639871382636656\n",
            "F1 score (F): 0.5827232796486091\n",
            "\n",
            "Classification Report\n",
            "              precision    recall  f1-score   support\n",
            "\n",
            "           0     0.7282    0.6342    0.6780       473\n",
            "           1     0.5349    0.6399    0.5827       311\n",
            "\n",
            "    accuracy                         0.6365       784\n",
            "   macro avg     0.6316    0.6371    0.6303       784\n",
            "weighted avg     0.6515    0.6365    0.6402       784\n",
            "\n"
          ],
          "name": "stdout"
        }
      ]
    }
  ]
}