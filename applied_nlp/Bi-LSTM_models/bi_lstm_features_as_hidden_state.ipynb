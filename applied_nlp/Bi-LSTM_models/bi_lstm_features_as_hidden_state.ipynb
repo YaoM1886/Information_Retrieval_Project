{
  "nbformat": 4,
  "nbformat_minor": 0,
  "metadata": {
    "colab": {
      "name": "bi-lstm_features_as_hidden_state.ipynb",
      "provenance": [],
      "collapsed_sections": [],
      "toc_visible": true
    },
    "kernelspec": {
      "name": "python3",
      "display_name": "Python 3"
    },
    "language_info": {
      "name": "python"
    },
    "accelerator": "GPU"
  },
  "cells": [
    {
      "cell_type": "code",
      "metadata": {
        "colab": {
          "base_uri": "https://localhost:8080/"
        },
        "id": "YtOB0oJSz6S-",
        "outputId": "71ac30d6-2ca7-4432-db90-608d338ae8df"
      },
      "source": [
        "from google.colab import drive\n",
        "drive.mount('/content/drive')"
      ],
      "execution_count": 1,
      "outputs": [
        {
          "output_type": "stream",
          "text": [
            "Mounted at /content/drive\n"
          ],
          "name": "stdout"
        }
      ]
    },
    {
      "cell_type": "code",
      "metadata": {
        "id": "msgsWzfmP4TG"
      },
      "source": [
        "import numpy as np\n",
        "import pandas as pd\n",
        "from tqdm import tqdm\n",
        "import json\n",
        "from sklearn import metrics\n",
        "import matplotlib.pyplot as plt\n",
        "import ast\n",
        "\n",
        "import torch\n",
        "import torch.nn as nn\n",
        "import torch.nn.functional as F\n",
        "import torch.optim as optim\n",
        "from torchsummary import summary\n",
        "from torch.utils.data import TensorDataset, DataLoader\n",
        "from torch.nn.utils.rnn import pack_padded_sequence, pad_packed_sequence\n",
        "from torchtext.legacy import data\n",
        "from torchtext import datasets\n",
        "from torchtext.legacy.data import Field, Dataset, Example\n",
        "from torch.autograd import Variable"
      ],
      "execution_count": 2,
      "outputs": []
    },
    {
      "cell_type": "markdown",
      "metadata": {
        "id": "0ZIUjIomtQAC"
      },
      "source": [
        "Load the pre-trained embedding matrix\n",
        "\n",
        "*   glove-twitter-200d\n",
        "*   ntua-twitter-300d\n",
        "*   concatenate the two, make 500d\n",
        "\n",
        ".npy file is the binary numpy matrix file, which stores the pre-trained weights used for Embedding layer.\n",
        "\n",
        "token_idx.csv: the corresponding dic index of the tokens in each input tweet, varied-length, needs padding to the same length before training.\n"
      ]
    },
    {
      "cell_type": "code",
      "metadata": {
        "id": "_bv4A73u1BLr",
        "colab": {
          "base_uri": "https://localhost:8080/"
        },
        "outputId": "9d6a0fc1-d84c-40ce-a6e9-c8e885ed2c7f"
      },
      "source": [
        "glove_weights = np.load(\"/content/drive/MyDrive/irony_thuset/glove_twitter_embed_matrix.npy\")\n",
        "ntua_weights = np.load(\"/content/drive/MyDrive/irony_thuset/ntua_twitter_embed_matrix.npy\")\n",
        "\n",
        "glove_weights = torch.from_numpy(glove_weights)\n",
        "ntua_weights = torch.from_numpy(ntua_weights)\n",
        "glove_weights = torch.cat((glove_weights, ntua_weights), dim=1)\n",
        "print(\"Embedding dimension:\", glove_weights.size())"
      ],
      "execution_count": 13,
      "outputs": [
        {
          "output_type": "stream",
          "text": [
            "Embedding dimension: torch.Size([1175, 500])\n"
          ],
          "name": "stdout"
        }
      ]
    },
    {
      "cell_type": "markdown",
      "metadata": {
        "id": "uoHKjPNaHH8q"
      },
      "source": [
        "Obtain the token index table, used as input of the embeddding layer in self.forward()\n",
        "\n",
        "\n",
        "*   Specifically, a token index table is that:\n",
        "for each tweet, we need the token index extracted from a whole word dictionary in the whole set\n",
        "tweet: \"I have a dog\" ;     token index: [3, 6, 8, 9]\n",
        "\n"
      ]
    },
    {
      "cell_type": "code",
      "metadata": {
        "id": "gCI5MZLEmhY8"
      },
      "source": [
        "def idx_tensor(path, reshape_size):\n",
        "  token_idx = pd.read_csv(path, index_col=None)\n",
        "  token_idx[\"token_to_idx\"] = token_idx.loc[:, \"token_to_idx\"].map(lambda x: ast.literal_eval(x))\n",
        "  token_idx[\"token_length\"] = token_idx[\"token_to_idx\"].map(lambda x: len(x))\n",
        "  print(\"Max length of the tokens:\", token_idx[\"token_length\"].max())\n",
        "\n",
        "  # So we pad all inputs to same length tokens, pad with index 1174 which is the <unk> token index\n",
        "  idx_matrix = []\n",
        "  for i in range(len(token_idx)):\n",
        "    l = token_idx.loc[i, \"token_to_idx\"]\n",
        "    l += (token_idx[\"token_length\"].max()-len(l)) * [1174]\n",
        "    idx_matrix.extend(l)\n",
        "  idx_matrix = np.array(idx_matrix).reshape(reshape_size, -1) \n",
        "  idx_tensor = torch.from_numpy(idx_matrix).long()\n",
        "  return idx_tensor"
      ],
      "execution_count": 14,
      "outputs": []
    },
    {
      "cell_type": "code",
      "metadata": {
        "colab": {
          "base_uri": "https://localhost:8080/"
        },
        "id": "OvpmxEdEmsRB",
        "outputId": "75216999-4635-4605-c3dd-432dc580db68"
      },
      "source": [
        "idx_train = idx_tensor(\"/content/drive/MyDrive/irony_thuset/token_idx.csv\", 3834)\n",
        "idx_test = idx_tensor(\"/content/drive/MyDrive/irony_thuset/token_idx_test.csv\", 784)"
      ],
      "execution_count": 15,
      "outputs": [
        {
          "output_type": "stream",
          "text": [
            "Max length of the tokens: 75\n",
            "Max length of the tokens: 66\n"
          ],
          "name": "stdout"
        }
      ]
    },
    {
      "cell_type": "markdown",
      "metadata": {
        "id": "RjdP6CIATz0N"
      },
      "source": [
        "import train and test sentiment features, 49 features in total for each"
      ]
    },
    {
      "cell_type": "code",
      "metadata": {
        "id": "MU35SfrtT4C0"
      },
      "source": [
        "train_sentiment = pd.read_csv(\"/content/drive/MyDrive/irony_thuset/train_sentiment.csv\", index_col=None, header=None)\n",
        "test_sentiment = pd.read_csv(\"/content/drive/MyDrive/irony_thuset/test_sentiment.csv\", index_col=None, header=None)\n",
        "\n",
        "train_sent_tensor = torch.from_numpy(train_sentiment.values).float()\n",
        "test_sent_tensor = torch.from_numpy(test_sentiment.values).float()\n"
      ],
      "execution_count": 16,
      "outputs": []
    },
    {
      "cell_type": "markdown",
      "metadata": {
        "id": "4u2_uAbPU_8b"
      },
      "source": [
        "\n",
        "\n",
        "*   Method 1: add sentiment features as initial hidden states, so first we concatenate the features to the idx_tensor, for later loader construction.\n",
        "*   Method 2: add sentiment features as features to the final layer, then feed the output for the classification layer.\n",
        "\n"
      ]
    },
    {
      "cell_type": "markdown",
      "metadata": {
        "id": "GPJcvLdle8jT"
      },
      "source": [
        "# 1. Import pre-trained embeddings and labels, train and gold-test"
      ]
    },
    {
      "cell_type": "markdown",
      "metadata": {
        "id": "uK2oOJOzgzuI"
      },
      "source": [
        "set cuda configuration"
      ]
    },
    {
      "cell_type": "code",
      "metadata": {
        "colab": {
          "base_uri": "https://localhost:8080/"
        },
        "id": "I53WswCUYubz",
        "outputId": "c8a85101-1b1e-478c-94e7-11ab302259a8"
      },
      "source": [
        "torch.manual_seed(16)    # Group 16\n",
        "cuda_status = torch.cuda.is_available()\n",
        "\n",
        "# using cuda\n",
        "if cuda_status:\n",
        "    torch.cuda.manual_seed(100)\n",
        "    device = 'cuda:0'\n",
        "    print('You have CUDA device.')\n",
        "else:\n",
        "    device = 'cpu'\n",
        "    print('Switch to GPU runtime to speed up computation.')  "
      ],
      "execution_count": 17,
      "outputs": [
        {
          "output_type": "stream",
          "text": [
            "You have CUDA device.\n"
          ],
          "name": "stdout"
        }
      ]
    },
    {
      "cell_type": "code",
      "metadata": {
        "id": "MYt8su5jP__D",
        "colab": {
          "base_uri": "https://localhost:8080/"
        },
        "outputId": "1c24fdb0-9ea4-4de7-8f54-699f5108ab3e"
      },
      "source": [
        "with open('/content/drive/MyDrive/irony_thuset/task3_train.txt','r')as f:\n",
        "    task3_train = f.read()\n",
        "task3_train = json.JSONDecoder().decode(task3_train)\n",
        "\n",
        "train_label = []\n",
        "for sent in task3_train:\n",
        "    train_label.append(int(sent['label']))\n",
        "train_label = np.array(train_label, dtype=np.float)\n",
        "train_label = torch.from_numpy(train_label).long()\n",
        "\n",
        "# gold test labels\n",
        "gold_test_df = pd.read_csv(\"/content/drive/MyDrive/irony_thuset/SemEval2018-T3_gold_test_taskA_emoji.txt\", sep=\"\\t\")\n",
        "test_label = gold_test_df[\"Label\"]\n",
        "true_labels = np.array(test_label)\n",
        "test_label = torch.from_numpy(true_labels).long()\n",
        "\n",
        "\n",
        "print(\"train_label:\", train_label.shape)\n",
        "print(\"test_label:\", test_label.shape)"
      ],
      "execution_count": 18,
      "outputs": [
        {
          "output_type": "stream",
          "text": [
            "train_label: torch.Size([3834])\n",
            "test_label: torch.Size([784])\n"
          ],
          "name": "stdout"
        }
      ]
    },
    {
      "cell_type": "markdown",
      "metadata": {
        "id": "gkEeyHD1thqR"
      },
      "source": [
        "# 2. Construct data iteretors with batch-size"
      ]
    },
    {
      "cell_type": "code",
      "metadata": {
        "id": "WEUPRYZbX9DI"
      },
      "source": [
        "BATCH_SIZE = 64\n",
        "\n",
        "# train_set = train_s, train_label\n",
        "# test_set = test_s, test_label\n",
        "\n",
        "train_set = idx_train, train_sent_tensor, train_label\n",
        "test_set = idx_test, test_sent_tensor, test_label\n",
        "# Create dataloaders from the training and test set for easier iteration over the data\n",
        "train_loader = DataLoader(TensorDataset(*train_set), batch_size=BATCH_SIZE, shuffle=True)\n",
        "test_loader = DataLoader(TensorDataset(*test_set), batch_size=BATCH_SIZE)\n"
      ],
      "execution_count": 19,
      "outputs": []
    },
    {
      "cell_type": "markdown",
      "metadata": {
        "id": "0C2ZwHx2iB52"
      },
      "source": [
        "# 3. Build the bi-LSTM with customized number of layers"
      ]
    },
    {
      "cell_type": "code",
      "metadata": {
        "id": "YcO2oHslZ6D_"
      },
      "source": [
        "class BiLSTMClassifier(nn.Module):\n",
        "\n",
        "    def __init__(self, vocab_size, embed_size, weights_matrix, hidden_dim, dropout, num_layers, feature_size):\n",
        "  \n",
        "        super(BiLSTMClassifier, self).__init__()\n",
        "        self.num_layers = num_layers\n",
        "\n",
        "        self.embedding = nn.Embedding(vocab_size, embed_size)\n",
        "        self.embedding.load_state_dict({'weight': weights_matrix})\n",
        "        self.feature_projector = nn.Linear(feature_size, hidden_dim)\n",
        "        self.lstm = nn.LSTM(embed_size, hidden_dim, bidirectional=True, num_layers=num_layers, dropout = dropout, batch_first=True)\n",
        "        self.fc = nn.Linear(hidden_dim * 2, 2)\n",
        "        self.dropout = nn.Dropout(dropout)\n",
        "\n",
        "\n",
        "    def forward(self, idx, features):\n",
        "\n",
        "        #pass pre-trained embeddings through embedding layer\n",
        "        embedded = self.embedding(idx)\n",
        "        #pass embeddings into LSTM\n",
        "        h0 = self.feature_projector(features).unsqueeze(0).repeat(self.num_layers*2, 1, 1)\n",
        "        c0 = torch.zeros_like(h0)\n",
        "        lstm_out, (hidden, cell) = self.lstm(embedded, (h0, c0)) # h0, c0 both intialized to zero\n",
        "        \n",
        "        cat = torch.cat((hidden[-2, :, :], hidden[-1, :, :]), dim=1)        \n",
        "        outputs = self.fc(self.dropout(cat))\n",
        "        return outputs\n",
        "\n"
      ],
      "execution_count": 20,
      "outputs": []
    },
    {
      "cell_type": "markdown",
      "metadata": {
        "id": "euBKT5FaEKWl"
      },
      "source": [
        "# 4. Define train and test module"
      ]
    },
    {
      "cell_type": "code",
      "metadata": {
        "id": "Lbl96LWehGhK"
      },
      "source": [
        "def train(train_loader, model, loss_function, optimizer, device):\n",
        "  \"\"\"\n",
        "    Trains network for one epoch in batches.\n",
        "\n",
        "    Args:\n",
        "        train_loader: Data loader for training set.\n",
        "        model: Neural network model.\n",
        "        optimizer: Optimizer.\n",
        "        loss_function: Loss function (e.g. cross-entropy loss).\n",
        "  \"\"\"\n",
        "\n",
        "  avg_loss = 0\n",
        "  correct = 0\n",
        "  total = 0\n",
        "    # Iterate through batches\n",
        "  for i, data in enumerate(train_loader):\n",
        "      # Get the inputs; data is a list of [inputs, labels]\n",
        "      inputs, features, labels = data\n",
        "      # Move data to target device\n",
        "      inputs, features, labels = inputs.to(device), features.to(device), labels.to(device)\n",
        "\n",
        "      # Zero the parameter gradients\n",
        "      optimizer.zero_grad()\n",
        "\n",
        "      # Forward + backward + optimize\n",
        "\n",
        "      outputs = model(inputs, features)\n",
        "      loss = loss_function(outputs, labels)\n",
        "      loss.backward()\n",
        "      optimizer.step()\n",
        "\n",
        "      # Keep track of loss and accuracy\n",
        "      avg_loss += loss\n",
        "      _, predicted = torch.max(outputs.data, 1)\n",
        "      total += labels.size(0)\n",
        "      correct += (predicted == labels).sum().item()\n",
        "\n",
        "  return avg_loss / len(train_loader), 100 * correct / total\n",
        "\n",
        "def test(test_loader, model, criterion, device):\n",
        "    \"\"\"\n",
        "    Evaluates network in batches.\n",
        "\n",
        "    \"\"\"\n",
        "\n",
        "    avg_loss = 0\n",
        "    correct = 0\n",
        "    total = 0\n",
        "    pred_labels = []\n",
        "    \n",
        "    # Use torch.no_grad to skip gradient calculation, not needed for evaluation\n",
        "    with torch.no_grad():\n",
        "        # Iterate through batches\n",
        "        for data in test_loader:\n",
        "            # Get the inputs; data is a list of [inputs, labels]\n",
        "            \n",
        "\n",
        "            inputs, features, labels = data\n",
        "            # Move data to target device\n",
        "            inputs, features, labels = inputs.to(device), features.to(device), labels.to(device)\n",
        "\n",
        "            # Move data to target device\n",
        "            \n",
        "\n",
        "            # Forward pass\n",
        "            outputs = model(inputs, features)\n",
        "            loss = criterion(outputs, labels)\n",
        "\n",
        "            # Keep track of loss and accuracy\n",
        "            avg_loss += loss\n",
        "            _, predicted = torch.max(outputs.data, 1)\n",
        "            total += labels.size(0)\n",
        "            correct += (predicted == labels).sum().item()\n",
        "\n",
        "            pred_labels.append(predicted)\n",
        "\n",
        "    return avg_loss / len(test_loader), 100 * correct / total, pred_labels\n",
        "\n"
      ],
      "execution_count": 21,
      "outputs": []
    },
    {
      "cell_type": "markdown",
      "metadata": {
        "id": "C9blxSuvEW81"
      },
      "source": [
        "# 5. Train process"
      ]
    },
    {
      "cell_type": "code",
      "metadata": {
        "id": "Zoy6-Uji1BTi",
        "colab": {
          "base_uri": "https://localhost:8080/"
        },
        "outputId": "aebe2c41-e0d2-4d0d-aff2-68ef045f0c39"
      },
      "source": [
        "\n",
        "DROPOUT = 0.3\n",
        "HIDDEN_SIZE = 200\n",
        "EPOCH = 80\n",
        "LEARNING_RATE = 0.0005\n",
        "NUM_LAYERS = 4\n",
        "EMBED_SIZE = glove_weights.shape[1]\n",
        "VOCAB_SIZE = glove_weights.shape[0]\n",
        "WEIGHTS_MATRIX = glove_weights\n",
        "FEATURE_SIZE = 49\n",
        "\n",
        "\n",
        "model = BiLSTMClassifier(VOCAB_SIZE, EMBED_SIZE, WEIGHTS_MATRIX, HIDDEN_SIZE, DROPOUT, NUM_LAYERS, FEATURE_SIZE)\n",
        "model = model.to(device)\n",
        "# loss function and optimizer\n",
        "loss_function = nn.CrossEntropyLoss()\n",
        "optimizer = optim.Adam(model.parameters(), lr=LEARNING_RATE)\n",
        "\n",
        "\n",
        "train_losses = []\n",
        "train_accs = []\n",
        "test_losses = []\n",
        "test_accs=[]\n",
        "\n",
        "# training process\n",
        "for epoch in tqdm(range(EPOCH)):\n",
        "    \n",
        "    train_loss, train_acc = train(train_loader, model, loss_function, optimizer, device)  \n",
        "    test_loss, test_acc, pred_labels = test(test_loader, model, loss_function, device)\n",
        "    \n",
        "    train_losses.append(train_loss)\n",
        "    train_accs.append(train_acc)\n",
        "    test_losses.append(test_loss)\n",
        "    test_accs.append(test_acc)\n",
        "  \n"
      ],
      "execution_count": 22,
      "outputs": [
        {
          "output_type": "stream",
          "text": [
            "\n",
            "  0%|          | 0/80 [00:00<?, ?it/s]\u001b[A\n",
            "  1%|▏         | 1/80 [00:05<06:40,  5.06s/it]\u001b[A\n",
            "  2%|▎         | 2/80 [00:10<06:34,  5.05s/it]\u001b[A\n",
            "  4%|▍         | 3/80 [00:15<06:29,  5.06s/it]\u001b[A\n",
            "  5%|▌         | 4/80 [00:20<06:25,  5.07s/it]\u001b[A\n",
            "  6%|▋         | 5/80 [00:25<06:21,  5.08s/it]\u001b[A\n",
            "  8%|▊         | 6/80 [00:30<06:17,  5.10s/it]\u001b[A\n",
            "  9%|▉         | 7/80 [00:35<06:15,  5.14s/it]\u001b[A\n",
            " 10%|█         | 8/80 [00:40<06:11,  5.16s/it]\u001b[A\n",
            " 11%|█▏        | 9/80 [00:46<06:07,  5.17s/it]\u001b[A\n",
            " 12%|█▎        | 10/80 [00:51<06:03,  5.19s/it]\u001b[A\n",
            " 14%|█▍        | 11/80 [00:56<05:58,  5.20s/it]\u001b[A\n",
            " 15%|█▌        | 12/80 [01:01<05:54,  5.21s/it]\u001b[A\n",
            " 16%|█▋        | 13/80 [01:07<05:48,  5.21s/it]\u001b[A\n",
            " 18%|█▊        | 14/80 [01:12<05:43,  5.21s/it]\u001b[A\n",
            " 19%|█▉        | 15/80 [01:17<05:38,  5.20s/it]\u001b[A\n",
            " 20%|██        | 16/80 [01:22<05:33,  5.21s/it]\u001b[A\n",
            " 21%|██▏       | 17/80 [01:27<05:27,  5.21s/it]\u001b[A\n",
            " 22%|██▎       | 18/80 [01:33<05:22,  5.19s/it]\u001b[A\n",
            " 24%|██▍       | 19/80 [01:38<05:16,  5.20s/it]\u001b[A\n",
            " 25%|██▌       | 20/80 [01:43<05:11,  5.19s/it]\u001b[A\n",
            " 26%|██▋       | 21/80 [01:48<05:05,  5.19s/it]\u001b[A\n",
            " 28%|██▊       | 22/80 [01:53<05:00,  5.19s/it]\u001b[A\n",
            " 29%|██▉       | 23/80 [01:58<04:55,  5.19s/it]\u001b[A\n",
            " 30%|███       | 24/80 [02:04<04:50,  5.19s/it]\u001b[A\n",
            " 31%|███▏      | 25/80 [02:09<04:45,  5.20s/it]\u001b[A\n",
            " 32%|███▎      | 26/80 [02:14<04:40,  5.20s/it]\u001b[A\n",
            " 34%|███▍      | 27/80 [02:19<04:35,  5.20s/it]\u001b[A\n",
            " 35%|███▌      | 28/80 [02:24<04:30,  5.20s/it]\u001b[A\n",
            " 36%|███▋      | 29/80 [02:30<04:25,  5.20s/it]\u001b[A\n",
            " 38%|███▊      | 30/80 [02:35<04:20,  5.20s/it]\u001b[A\n",
            " 39%|███▉      | 31/80 [02:40<04:15,  5.21s/it]\u001b[A\n",
            " 40%|████      | 32/80 [02:45<04:09,  5.21s/it]\u001b[A\n",
            " 41%|████▏     | 33/80 [02:51<04:04,  5.21s/it]\u001b[A\n",
            " 42%|████▎     | 34/80 [02:56<03:59,  5.21s/it]\u001b[A\n",
            " 44%|████▍     | 35/80 [03:01<03:54,  5.21s/it]\u001b[A\n",
            " 45%|████▌     | 36/80 [03:06<03:49,  5.21s/it]\u001b[A\n",
            " 46%|████▋     | 37/80 [03:11<03:44,  5.21s/it]\u001b[A\n",
            " 48%|████▊     | 38/80 [03:17<03:38,  5.21s/it]\u001b[A\n",
            " 49%|████▉     | 39/80 [03:22<03:33,  5.21s/it]\u001b[A\n",
            " 50%|█████     | 40/80 [03:27<03:28,  5.21s/it]\u001b[A\n",
            " 51%|█████▏    | 41/80 [03:32<03:23,  5.21s/it]\u001b[A\n",
            " 52%|█████▎    | 42/80 [03:37<03:17,  5.21s/it]\u001b[A\n",
            " 54%|█████▍    | 43/80 [03:43<03:12,  5.21s/it]\u001b[A\n",
            " 55%|█████▌    | 44/80 [03:48<03:07,  5.20s/it]\u001b[A\n",
            " 56%|█████▋    | 45/80 [03:53<03:02,  5.20s/it]\u001b[A\n",
            " 57%|█████▊    | 46/80 [03:58<02:56,  5.20s/it]\u001b[A\n",
            " 59%|█████▉    | 47/80 [04:03<02:51,  5.21s/it]\u001b[A\n",
            " 60%|██████    | 48/80 [04:09<02:46,  5.21s/it]\u001b[A\n",
            " 61%|██████▏   | 49/80 [04:14<02:41,  5.21s/it]\u001b[A\n",
            " 62%|██████▎   | 50/80 [04:19<02:36,  5.21s/it]\u001b[A\n",
            " 64%|██████▍   | 51/80 [04:24<02:31,  5.22s/it]\u001b[A\n",
            " 65%|██████▌   | 52/80 [04:30<02:26,  5.21s/it]\u001b[A\n",
            " 66%|██████▋   | 53/80 [04:35<02:20,  5.21s/it]\u001b[A\n",
            " 68%|██████▊   | 54/80 [04:40<02:15,  5.21s/it]\u001b[A\n",
            " 69%|██████▉   | 55/80 [04:45<02:10,  5.21s/it]\u001b[A\n",
            " 70%|███████   | 56/80 [04:50<02:04,  5.21s/it]\u001b[A\n",
            " 71%|███████▏  | 57/80 [04:56<01:59,  5.21s/it]\u001b[A\n",
            " 72%|███████▎  | 58/80 [05:01<01:54,  5.21s/it]\u001b[A\n",
            " 74%|███████▍  | 59/80 [05:06<01:49,  5.21s/it]\u001b[A\n",
            " 75%|███████▌  | 60/80 [05:11<01:44,  5.21s/it]\u001b[A\n",
            " 76%|███████▋  | 61/80 [05:16<01:38,  5.21s/it]\u001b[A\n",
            " 78%|███████▊  | 62/80 [05:22<01:33,  5.21s/it]\u001b[A\n",
            " 79%|███████▉  | 63/80 [05:27<01:28,  5.21s/it]\u001b[A\n",
            " 80%|████████  | 64/80 [05:32<01:23,  5.21s/it]\u001b[A\n",
            " 81%|████████▏ | 65/80 [05:37<01:18,  5.21s/it]\u001b[A\n",
            " 82%|████████▎ | 66/80 [05:42<01:12,  5.21s/it]\u001b[A\n",
            " 84%|████████▍ | 67/80 [05:48<01:07,  5.21s/it]\u001b[A\n",
            " 85%|████████▌ | 68/80 [05:53<01:02,  5.21s/it]\u001b[A\n",
            " 86%|████████▋ | 69/80 [05:58<00:57,  5.21s/it]\u001b[A\n",
            " 88%|████████▊ | 70/80 [06:03<00:52,  5.21s/it]\u001b[A\n",
            " 89%|████████▉ | 71/80 [06:08<00:46,  5.21s/it]\u001b[A\n",
            " 90%|█████████ | 72/80 [06:14<00:41,  5.21s/it]\u001b[A\n",
            " 91%|█████████▏| 73/80 [06:19<00:36,  5.21s/it]\u001b[A\n",
            " 92%|█████████▎| 74/80 [06:24<00:31,  5.21s/it]\u001b[A\n",
            " 94%|█████████▍| 75/80 [06:29<00:26,  5.21s/it]\u001b[A\n",
            " 95%|█████████▌| 76/80 [06:35<00:20,  5.21s/it]\u001b[A\n",
            " 96%|█████████▋| 77/80 [06:40<00:15,  5.21s/it]\u001b[A\n",
            " 98%|█████████▊| 78/80 [06:45<00:10,  5.21s/it]\u001b[A\n",
            " 99%|█████████▉| 79/80 [06:50<00:05,  5.21s/it]\u001b[A\n",
            "100%|██████████| 80/80 [06:55<00:00,  5.20s/it]\n"
          ],
          "name": "stderr"
        }
      ]
    },
    {
      "cell_type": "markdown",
      "metadata": {
        "id": "-Z3WSfRREhQ6"
      },
      "source": [
        "# 6. Draw the train and test curves. Evaluate confusion matrix"
      ]
    },
    {
      "cell_type": "code",
      "metadata": {
        "id": "71a9gwip1NsG",
        "colab": {
          "base_uri": "https://localhost:8080/",
          "height": 279
        },
        "outputId": "a01ec206-79d6-4c79-e9cc-bd34d546915c"
      },
      "source": [
        "plt.figure(figsize=(9,4))\n",
        "plt.subplot(1,2,1)\n",
        "plt.xlabel('Epochs')\n",
        "plt.ylabel('Loss')\n",
        "plt.plot(train_losses, label=\"train\")\n",
        "plt.plot(test_losses, label=\"test\")\n",
        "plt.grid()\n",
        "\n",
        "plt.subplot(1,2,2)\n",
        "plt.xlabel('Epochs')\n",
        "plt.ylabel('Accuracy (%)')\n",
        "plt.plot(train_accs, label = \"train\")\n",
        "plt.plot(test_accs, label = \"test\")\n",
        "plt.legend()\n",
        "plt.grid()"
      ],
      "execution_count": 23,
      "outputs": [
        {
          "output_type": "display_data",
          "data": {
            "image/png": "[encoded data removed]",
            "text/plain": [
              "<Figure size 648x288 with 2 Axes>"
            ]
          },
          "metadata": {
            "tags": [],
            "needs_background": "light"
          }
        }
      ]
    },
    {
      "cell_type": "code",
      "metadata": {
        "colab": {
          "base_uri": "https://localhost:8080/"
        },
        "id": "N2vc7DCsHYAw",
        "outputId": "856e937b-0edd-4f63-f6f4-3ef78d4a9070"
      },
      "source": [
        "pre_l = []\n",
        "for i in pred_labels:\n",
        "  pre_l.extend(i.to(\"cpu\").numpy().tolist())\n",
        "pre_l = np.array(pre_l)\n",
        "\n",
        "print(\"Precision (P):\", metrics.precision_score(true_labels, pre_l))\n",
        "print(\"Recall (R):\", metrics.recall_score(true_labels, pre_l))\n",
        "print(\"F1 score (F):\", metrics.f1_score(true_labels, pre_l))\n",
        "print()\n",
        "print(\"Classification Report\")\n",
        "print(metrics.classification_report(true_labels, pre_l, digits=4))"
      ],
      "execution_count": 25,
      "outputs": [
        {
          "output_type": "stream",
          "text": [
            "Precision (P): 0.49635036496350365\n",
            "Recall (R): 0.6559485530546624\n",
            "F1 score (F): 0.5650969529085873\n",
            "\n",
            "Classification Report\n",
            "              precision    recall  f1-score   support\n",
            "\n",
            "           0     0.7131    0.5624    0.6288       473\n",
            "           1     0.4964    0.6559    0.5651       311\n",
            "\n",
            "    accuracy                         0.5995       784\n",
            "   macro avg     0.6047    0.6092    0.5970       784\n",
            "weighted avg     0.6271    0.5995    0.6036       784\n",
            "\n"
          ],
          "name": "stdout"
        }
      ]
    }
  ]
}